{
 "cells": [
  {
   "cell_type": "code",
   "execution_count": 1,
   "id": "724623ba-c2b3-4ed1-9840-b97fe82d2bc9",
   "metadata": {},
   "outputs": [
    {
     "name": "stderr",
     "output_type": "stream",
     "text": [
      "2023-07-22 17:41:16.464598: I tensorflow/tsl/cuda/cudart_stub.cc:28] Could not find cuda drivers on your machine, GPU will not be used.\n",
      "2023-07-22 17:41:16.499542: I tensorflow/tsl/cuda/cudart_stub.cc:28] Could not find cuda drivers on your machine, GPU will not be used.\n",
      "2023-07-22 17:41:16.500503: I tensorflow/core/platform/cpu_feature_guard.cc:182] This TensorFlow binary is optimized to use available CPU instructions in performance-critical operations.\n",
      "To enable the following instructions: AVX2 AVX512F FMA, in other operations, rebuild TensorFlow with the appropriate compiler flags.\n",
      "2023-07-22 17:41:17.068320: W tensorflow/compiler/tf2tensorrt/utils/py_utils.cc:38] TF-TRT Warning: Could not find TensorRT\n"
     ]
    }
   ],
   "source": [
    "import pormake as pm\n",
    "\n",
    "db = pm.Database()\n",
    "loc = pm.Locator()"
   ]
  },
  {
   "cell_type": "code",
   "execution_count": 2,
   "id": "4098e1df-ebb4-4837-b06c-e57b221a49c2",
   "metadata": {
    "scrolled": true,
    "tags": []
   },
   "outputs": [
    {
     "name": "stderr",
     "output_type": "stream",
     "text": [
      ">>> Topology parsing fails: ast-d\n",
      ">>> Topology loading is failed: Invalid cgd file: ast-d.\n",
      ">>> Topology parsing fails: baz-a\n",
      ">>> Topology loading is failed: Invalid cgd file: baz-a.\n",
      ">>> Topology loading is failed: list index out of range.\n",
      ">>> Topology parsing fails: cds-t\n",
      ">>> Topology loading is failed: Invalid cgd file: cds-t.\n",
      ">>> Topology parsing fails: crt\n",
      ">>> Topology loading is failed: Invalid cgd file: crt.\n",
      ">>> Topology parsing fails: css\n",
      ">>> Topology loading is failed: Invalid cgd file: css.\n",
      ">>> Topology parsing fails: ddi\n",
      ">>> Topology loading is failed: Invalid cgd file: ddi.\n",
      ">>> Topology loading is failed: zero-size array to reduction operation maximum which has no identity.\n",
      ">>> Topology parsing fails: dgo\n",
      ">>> Topology loading is failed: Invalid cgd file: dgo.\n",
      ">>> Topology parsing fails: dia-x\n",
      ">>> Topology loading is failed: Invalid cgd file: dia-x.\n",
      ">>> Topology parsing fails: dnf-a\n",
      ">>> Topology loading is failed: Invalid cgd file: dnf-a.\n",
      ">>> Topology parsing fails: elv\n",
      ">>> Topology loading is failed: Invalid cgd file: elv.\n",
      ">>> Topology parsing fails: ffg-a\n",
      ">>> Topology loading is failed: Invalid cgd file: ffg-a.\n",
      ">>> Topology parsing fails: ffj-a\n",
      ">>> Topology loading is failed: Invalid cgd file: ffj-a.\n",
      ">>> Topology parsing fails: fnx\n",
      ">>> Topology loading is failed: Invalid cgd file: fnx.\n",
      ">>> Topology parsing fails: ibb\n",
      ">>> Topology loading is failed: Invalid cgd file: ibb.\n",
      ">>> Topology parsing fails: ild\n",
      ">>> Topology loading is failed: Invalid cgd file: ild.\n",
      ">>> Topology parsing fails: jsm\n",
      ">>> Topology loading is failed: Invalid cgd file: jsm.\n",
      ">>> Topology loading is failed: could not convert string to float: 'V1'.\n",
      ">>> Topology parsing fails: lcz\n",
      ">>> Topology loading is failed: Invalid cgd file: lcz.\n",
      ">>> Topology parsing fails: llw-z\n",
      ">>> Topology loading is failed: Invalid cgd file: llw-z.\n",
      ">>> Topology parsing fails: mab\n",
      ">>> Topology loading is failed: Invalid cgd file: mab.\n",
      ">>> Topology parsing fails: mhq\n",
      ">>> Topology loading is failed: Invalid cgd file: mhq.\n",
      ">>> Topology parsing fails: mmo\n",
      ">>> Topology loading is failed: Invalid cgd file: mmo.\n",
      ">>> Topology parsing fails: nbo-x\n",
      ">>> Topology loading is failed: Invalid cgd file: nbo-x.\n",
      ">>> Topology parsing fails: nia-d\n",
      ">>> Topology loading is failed: Invalid cgd file: nia-d.\n",
      ">>> Topology parsing fails: rht-x\n",
      ">>> Topology loading is failed: Invalid cgd file: rht-x.\n",
      ">>> Topology parsing fails: roa\n",
      ">>> Topology loading is failed: Invalid cgd file: roa.\n",
      ">>> Topology parsing fails: scu-h\n",
      ">>> Topology loading is failed: Invalid cgd file: scu-h.\n",
      ">>> Topology parsing fails: she-d\n",
      ">>> Topology loading is failed: Invalid cgd file: she-d.\n",
      ">>> Topology parsing fails: tcb\n",
      ">>> Topology loading is failed: Invalid cgd file: tcb.\n",
      ">>> Topology parsing fails: tfy-a\n",
      ">>> Topology loading is failed: Invalid cgd file: tfy-a.\n",
      ">>> Topology parsing fails: utx\n",
      ">>> Topology loading is failed: Invalid cgd file: utx.\n",
      ">>> Topology parsing fails: xbn\n",
      ">>> Topology loading is failed: Invalid cgd file: xbn.\n",
      ">>> Topology parsing fails: yzh\n",
      ">>> Topology loading is failed: Invalid cgd file: yzh.\n",
      ">>> Topology parsing fails: zim\n",
      ">>> Topology loading is failed: Invalid cgd file: zim.\n",
      ">>> Topology parsing fails: zst\n",
      ">>> Topology loading is failed: Invalid cgd file: zst.\n"
     ]
    }
   ],
   "source": [
    "cn346_list = []\n",
    "raw_list = sorted(db.topo_list) ## alphabetical order to better keep track of progress\n",
    "\n",
    "for topo in raw_list:\n",
    "    try:\n",
    "        cur_topo = db.get_topo(topo)\n",
    "    except:\n",
    "        continue\n",
    "\n",
    "    keep = True\n",
    "    for cn in cur_topo.unique_cn:\n",
    "        if (cn != 3 and cn != 4 and cn != 6):\n",
    "            keep = False\n",
    "\n",
    "    if keep:\n",
    "        cn346_list.append(cur_topo)   "
   ]
  },
  {
   "cell_type": "code",
   "execution_count": 4,
   "id": "3a435b54-efeb-4606-b945-d9dec5559fa7",
   "metadata": {},
   "outputs": [
    {
     "data": {
      "text/plain": [
       "1464"
      ]
     },
     "execution_count": 4,
     "metadata": {},
     "output_type": "execute_result"
    }
   ],
   "source": [
    "len(cn346_list)"
   ]
  },
  {
   "cell_type": "code",
   "execution_count": 5,
   "id": "64be3244-d666-4ab9-b0b6-144de5bfeb13",
   "metadata": {},
   "outputs": [
    {
     "name": "stderr",
     "output_type": "stream",
     "text": [
      ">>> There are atoms without bond: PcM_O, [(64, 'Xx'), (56, 'Ni'), (61, 'Xx'), (62, 'Xx'), (63, 'Xx')].\n",
      ">>> There are atoms without bond: TP_O, [(33, 'Xx'), (34, 'Xx'), (35, 'Xx')].\n",
      ">>> There are atoms without bond: Fe_oct, [(4, 'Xx'), (5, 'Xx'), (6, 'Xx')].\n"
     ]
    },
    {
     "name": "stdout",
     "output_type": "stream",
     "text": [
      "402\n"
     ]
    }
   ],
   "source": [
    "## check planarity and node count here by computing rmsd with PcM_O\n",
    "check_cn4 = pm.BuildingBlock(bb_file=\"pi-d_building_blocks/old_bb/PcM_O.xyz\")\n",
    "check_cn3_1 = pm.BuildingBlock(bb_file=\"pi-d_building_blocks/old_bb/TP_O.xyz\")\n",
    "check_cn3_2 = pm.BuildingBlock(bb_file=\"pi-d_building_blocks/Fe_oct.xyz\")\n",
    "\n",
    "\n",
    "max_node = 50\n",
    "\n",
    "rmsd_topos = []\n",
    "\n",
    "\n",
    "for topo in cn346_list:\n",
    "    \n",
    "    if topo.n_nodes > max_node:\n",
    "        continue\n",
    "    \n",
    "    max_rmsd = 0 \n",
    "    \n",
    "    for ls in topo.unique_local_structures:\n",
    "\n",
    "        if len(ls.positions) == 3:\n",
    "            cur_rmsd1 = loc.calculate_rmsd(ls, check_cn3_1)\n",
    "            cur_rmsd2 = loc.calculate_rmsd(ls, check_cn3_2)\n",
    "            cur_rmsd = min(cur_rmsd1, cur_rmsd2)            \n",
    "            if cur_rmsd > max_rmsd:\n",
    "                max_rmsd = cur_rmsd\n",
    "        \n",
    "        if len(ls.positions) == 4:\n",
    "            cur_rmsd = loc.calculate_rmsd(ls, check_cn4)\n",
    "            if cur_rmsd > max_rmsd:\n",
    "                max_rmsd = cur_rmsd\n",
    "    \n",
    "    if max_rmsd < 0.1:\n",
    "        rmsd_topos.append(topo)\n",
    "\n",
    "print(len(rmsd_topos))\n"
   ]
  },
  {
   "cell_type": "code",
   "execution_count": 6,
   "id": "a02a6e76-4675-4f43-bfed-575649679260",
   "metadata": {},
   "outputs": [
    {
     "name": "stdout",
     "output_type": "stream",
     "text": [
      "There are 300 topologies with cn = 3, 4, 6 nodes.\n",
      "There are 102 topologies with cn = 3, 4 nodes only.\n"
     ]
    }
   ],
   "source": [
    "cn346_list = []\n",
    "cn34only_list = []\n",
    "\n",
    "for topo in rmsd_topos:\n",
    "    \n",
    "    if max(topo.unique_cn) == 6:\n",
    "        cn346_list.append(topo)\n",
    "    else:\n",
    "        cn34only_list.append(topo)\n",
    "        \n",
    "print(\"There are\", len(cn346_list), \"topologies with cn = 3, 4, 6 nodes.\")\n",
    "print(\"There are\", len(cn34only_list), \"topologies with cn = 3, 4 nodes only.\")\n"
   ]
  },
  {
   "cell_type": "code",
   "execution_count": 7,
   "id": "32840c1d-d3fc-4002-b76f-3bdf30a75784",
   "metadata": {},
   "outputs": [],
   "source": [
    "## computed RMSD between the cn=6 nodes and the only known cn=6 node from synthesized conductive MOFs.\n",
    "loc = pm.Locator()\n",
    "\n",
    "cn346_refined_list = []\n",
    "\n",
    "check_bb = pm.BuildingBlock(bb_file=\"pi-d_building_blocks/Fe3O_rmsd_orig.xyz\")\n",
    "for topo in cn346_list:\n",
    "    max_rmsd = 0    \n",
    "    for ls in topo.unique_local_structures:\n",
    "        if len(ls.positions) == 6:\n",
    "            cur_rmsd = loc.calculate_rmsd(ls, check_bb)\n",
    "            if cur_rmsd > max_rmsd:\n",
    "                max_rmsd = cur_rmsd\n",
    "    if max_rmsd < 0.1:\n",
    "        cn346_refined_list.append(topo)\n",
    "\n",
    "check_bb = pm.BuildingBlock(bb_file=\"pi-d_building_blocks/Fe3O_rmsd_135.xyz\")\n",
    "for topo in cn346_list:\n",
    "    max_rmsd = 0    \n",
    "    for ls in topo.unique_local_structures:\n",
    "        if len(ls.positions) == 6:\n",
    "            cur_rmsd = loc.calculate_rmsd(ls, check_bb)\n",
    "            if cur_rmsd > max_rmsd:\n",
    "                max_rmsd = cur_rmsd\n",
    "    if max_rmsd < 0.1:\n",
    "        cn346_refined_list.append(topo)\n",
    "        \n",
    "check_bb = pm.BuildingBlock(bb_file=\"pi-d_building_blocks/Fe3O_rmsd_120.xyz\")\n",
    "for topo in cn346_list:\n",
    "    max_rmsd = 0    \n",
    "    for ls in topo.unique_local_structures:\n",
    "        if len(ls.positions) == 6:\n",
    "            cur_rmsd = loc.calculate_rmsd(ls, check_bb)\n",
    "            if cur_rmsd > max_rmsd:\n",
    "                max_rmsd = cur_rmsd\n",
    "    if max_rmsd < 0.1:\n",
    "        cn346_refined_list.append(topo)\n",
    "        \n",
    "check_bb = pm.BuildingBlock(bb_file=\"pi-d_building_blocks/Fe3O_rmsd_109.xyz\")\n",
    "for topo in cn346_list:\n",
    "    max_rmsd = 0    \n",
    "    for ls in topo.unique_local_structures:\n",
    "        if len(ls.positions) == 6:\n",
    "            cur_rmsd = loc.calculate_rmsd(ls, check_bb)\n",
    "            if cur_rmsd > max_rmsd:\n",
    "                max_rmsd = cur_rmsd\n",
    "    if max_rmsd < 0.1:\n",
    "        cn346_refined_list.append(topo)"
   ]
  },
  {
   "cell_type": "code",
   "execution_count": 8,
   "id": "926ed65a-a516-498b-801c-da1c9529b1fd",
   "metadata": {},
   "outputs": [
    {
     "name": "stdout",
     "output_type": "stream",
     "text": [
      "5\n"
     ]
    }
   ],
   "source": [
    "import csv\n",
    "\n",
    "pid_346_names = [topo.name for topo in cn346_refined_list]\n",
    "pid_346_names = set(pid_346_names)\n",
    "\n",
    "print(len(pid_346_names))\n",
    "\n",
    "with open('cn346_pid_topology_list.csv','w') as topo_list:\n",
    "    wr = csv.writer(topo_list, dialect='excel')\n",
    "    wr.writerow(pid_346_names)\n"
   ]
  },
  {
   "cell_type": "code",
   "execution_count": 9,
   "id": "8dd5e193-4ec8-4a6a-8692-30258cbdb1d2",
   "metadata": {},
   "outputs": [
    {
     "name": "stdout",
     "output_type": "stream",
     "text": [
      "102\n"
     ]
    }
   ],
   "source": [
    "pid_34_names = [topo.name for topo in cn34only_list]\n",
    "\n",
    "print(len(pid_34_names))\n",
    "\n",
    "with open('cn34_pid_topology_list.csv','w') as topo_list:\n",
    "    wr = csv.writer(topo_list, dialect='excel')\n",
    "    wr.writerow(pid_34_names)"
   ]
  },
  {
   "cell_type": "code",
   "execution_count": null,
   "id": "6f9aa525-1343-4c72-809c-8fd442c4084d",
   "metadata": {},
   "outputs": [],
   "source": []
  }
 ],
 "metadata": {
  "kernelspec": {
   "display_name": "Python 3 (ipykernel)",
   "language": "python",
   "name": "python3"
  },
  "language_info": {
   "codemirror_mode": {
    "name": "ipython",
    "version": 3
   },
   "file_extension": ".py",
   "mimetype": "text/x-python",
   "name": "python",
   "nbconvert_exporter": "python",
   "pygments_lexer": "ipython3",
   "version": "3.8.0"
  }
 },
 "nbformat": 4,
 "nbformat_minor": 5
}
