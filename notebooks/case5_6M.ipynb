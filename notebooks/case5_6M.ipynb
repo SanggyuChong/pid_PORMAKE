{
 "cells": [
  {
   "cell_type": "code",
   "execution_count": null,
   "id": "db0d1dfd-710e-488c-8be6-bbefdc2f3d10",
   "metadata": {},
   "outputs": [],
   "source": [
    "import pormake as pm\n",
    "import numpy as np\n",
    "from collections import defaultdict\n",
    "\n",
    "test_builder = pm.Builder(planarity_enforcement=True)\n",
    "loc = pm.Locator()\n",
    "\n",
    "## metal nodes\n",
    "Fe3O_ext = pm.BuildingBlock(bb_file=\"pi-d_building_blocks/Fe3O_align_ext.xyz\")\n",
    "\n",
    "## organic nodes\n",
    "TP_O = pm.BuildingBlock(bb_file=\"pi-d_building_blocks/TP_O.xyz\")\n",
    "PcM_O = pm.BuildingBlock(bb_file=\"pi-d_building_blocks/PcM_O.xyz\")\n",
    "\n",
    "## edges\n",
    "Cu_pln = pm.BuildingBlock(bb_file=\"pi-d_building_blocks/Cu_pln.xyz\")\n",
    "DHBQ = pm.BuildingBlock(bb_file=\"pi-d_building_blocks/DHBQ.xyz\")\n",
    "pseudo_edge = pm.BuildingBlock(bb_file=\"pi-d_building_blocks/pseudo_edge.xyz\")\n"
   ]
  },
  {
   "cell_type": "markdown",
   "id": "e7b3fd4e-e85c-46de-99dc-c10d6f48c3ab",
   "metadata": {},
   "source": [
    "## soc topology"
   ]
  },
  {
   "cell_type": "code",
   "execution_count": null,
   "id": "67c8d0d9",
   "metadata": {},
   "outputs": [],
   "source": [
    "topo = pm.Topology('cn6_modified_topologies/soc_mod.cgd')\n",
    "topo.view()\n",
    "print(topo.unique_cn, topo.unique_edge_types)"
   ]
  },
  {
   "cell_type": "code",
   "execution_count": null,
   "id": "930aed4d",
   "metadata": {
    "scrolled": true,
    "tags": []
   },
   "outputs": [],
   "source": [
    "current_node = {}\n",
    "current_edge = {}\n",
    "\n",
    "current_node[0] = PcM_O\n",
    "current_node[1] = PcM_O\n",
    "current_node[2] = Fe3O_ext\n",
    "\n",
    "\n",
    "current_edge[(0, 2)] = pseudo_edge\n",
    "current_edge[(1, 2)] = pseudo_edge\n",
    "\n",
    "calc_permutation = test_builder.extract_permutation(topo, current_node, current_edge)\n",
    "calc_permutation = {i : perm for i, perm in enumerate(calc_permutation)}\n",
    "\n",
    "bbs = test_builder.make_bbs_by_type(topo, current_node, current_edge)\n",
    "mof = test_builder.build(topo, bbs, calc_permutation)\n",
    "\n",
    "mof.view()\n"
   ]
  },
  {
   "cell_type": "markdown",
   "id": "1fb784e5-1128-46b0-9420-f60963422e14",
   "metadata": {},
   "source": [
    "## spn topology"
   ]
  },
  {
   "cell_type": "code",
   "execution_count": null,
   "id": "bbb4bb88-755b-40ab-8ba9-37a13b85e8a0",
   "metadata": {},
   "outputs": [],
   "source": [
    "topo = pm.Topology('cn6_modified_topologies/spn_mod.cgd')\n",
    "topo.view()\n",
    "print(topo.unique_cn, topo.unique_edge_types)"
   ]
  },
  {
   "cell_type": "code",
   "execution_count": null,
   "id": "86399cd1-e9f1-4189-9df0-daf3d9a7986a",
   "metadata": {
    "scrolled": true,
    "tags": []
   },
   "outputs": [],
   "source": [
    "current_node = {}\n",
    "current_edge = {}\n",
    "\n",
    "current_node[0] = TP_O\n",
    "current_node[1] = TP_O\n",
    "current_node[2] = Fe3O_ext\n",
    "\n",
    "\n",
    "current_edge[(0, 2)] = pseudo_edge\n",
    "current_edge[(1, 2)] = pseudo_edge\n",
    "\n",
    "calc_permutation = test_builder.extract_permutation(topo, current_node, current_edge)\n",
    "calc_permutation = {i : perm for i, perm in enumerate(calc_permutation)}\n",
    "\n",
    "bbs = test_builder.make_bbs_by_type(topo, current_node, current_edge)\n",
    "mof = test_builder.build(topo, bbs, calc_permutation)\n",
    "\n",
    "mof.view()\n"
   ]
  },
  {
   "cell_type": "markdown",
   "id": "e7f5b5bd-7523-4864-a12e-2d09bd29b4e8",
   "metadata": {},
   "source": [
    "## cdj topology"
   ]
  },
  {
   "cell_type": "code",
   "execution_count": null,
   "id": "909c0b39-8986-4989-bc14-01ba0f3f394b",
   "metadata": {},
   "outputs": [],
   "source": [
    "topo = pm.Topology('cn6_modified_topologies/cdj_mod.cgd')\n",
    "topo.view()\n",
    "print(topo.unique_cn, topo.unique_edge_types)"
   ]
  },
  {
   "cell_type": "code",
   "execution_count": null,
   "id": "64e5d1b5-780a-41db-a1f1-648ead075a8c",
   "metadata": {
    "scrolled": true,
    "tags": []
   },
   "outputs": [],
   "source": [
    "current_node = {}\n",
    "current_edge = {}\n",
    "\n",
    "current_node[0] = TP_O\n",
    "current_node[1] = TP_O\n",
    "current_node[2] = Fe3O_ext\n",
    "\n",
    "\n",
    "current_edge[(0, 0)] = Cu_pln\n",
    "current_edge[(0, 2)] = pseudo_edge\n",
    "current_edge[(1, 1)] = Cu_pln\n",
    "current_edge[(1, 2)] = pseudo_edge\n",
    "\n",
    "calc_permutation = test_builder.extract_permutation(topo, current_node, current_edge)\n",
    "calc_permutation = {i : perm for i, perm in enumerate(calc_permutation)}\n",
    "\n",
    "bbs = test_builder.make_bbs_by_type(topo, current_node, current_edge)\n",
    "mof = test_builder.build(topo, bbs, calc_permutation)\n",
    "\n",
    "mof.view()\n"
   ]
  },
  {
   "cell_type": "markdown",
   "id": "06bca89c-d228-4d82-825b-600f4143eae8",
   "metadata": {},
   "source": [
    "## crs topology"
   ]
  },
  {
   "cell_type": "code",
   "execution_count": null,
   "id": "2403ce97-1d9d-4036-bd70-4c5f5ee2cbc9",
   "metadata": {},
   "outputs": [],
   "source": [
    "topo = pm.Topology('cn6_modified_topologies/crs_mod.cgd')\n",
    "topo.view()\n",
    "print(topo.unique_cn, topo.unique_edge_types)"
   ]
  },
  {
   "cell_type": "code",
   "execution_count": null,
   "id": "74e79088-75fd-4904-8652-f5a6f77cf246",
   "metadata": {},
   "outputs": [],
   "source": [
    "current_node = {}\n",
    "current_edge = {}\n",
    "\n",
    "current_node[0] = Fe3O_ext\n",
    "\n",
    "\n",
    "current_edge[(0, 0)] = DHBQ\n",
    "\n",
    "calc_permutation = test_builder.extract_permutation(topo, current_node, current_edge)\n",
    "calc_permutation = {i : perm for i, perm in enumerate(calc_permutation)}\n",
    "\n",
    "bbs = test_builder.make_bbs_by_type(topo, current_node, current_edge)\n",
    "mof = test_builder.build(topo, bbs, calc_permutation)\n",
    "\n",
    "mof.view()\n"
   ]
  },
  {
   "cell_type": "markdown",
   "id": "da94a589-a22a-4455-b419-68d2f65553f9",
   "metadata": {},
   "source": [
    "### tsa topolgy requires one to have a tetrehedrally connecting \"spacer\", and has hence been omitted from the screening."
   ]
  }
 ],
 "metadata": {
  "kernelspec": {
   "display_name": "Python 3 (ipykernel)",
   "language": "python",
   "name": "python3"
  },
  "language_info": {
   "codemirror_mode": {
    "name": "ipython",
    "version": 3
   },
   "file_extension": ".py",
   "mimetype": "text/x-python",
   "name": "python",
   "nbconvert_exporter": "python",
   "pygments_lexer": "ipython3",
   "version": "3.8.0"
  }
 },
 "nbformat": 4,
 "nbformat_minor": 5
}
