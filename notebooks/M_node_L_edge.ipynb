{
 "cells": [
  {
   "cell_type": "code",
   "execution_count": 1,
   "id": "beca68e1-fd23-4bff-8086-bd633ffef965",
   "metadata": {
    "scrolled": true
   },
   "outputs": [
    {
     "name": "stderr",
     "output_type": "stream",
     "text": [
      "2023-07-24 09:52:45.125408: I tensorflow/tsl/cuda/cudart_stub.cc:28] Could not find cuda drivers on your machine, GPU will not be used.\n",
      "2023-07-24 09:52:45.176533: I tensorflow/tsl/cuda/cudart_stub.cc:28] Could not find cuda drivers on your machine, GPU will not be used.\n",
      "2023-07-24 09:52:45.177512: I tensorflow/core/platform/cpu_feature_guard.cc:182] This TensorFlow binary is optimized to use available CPU instructions in performance-critical operations.\n",
      "To enable the following instructions: AVX2 AVX512F FMA, in other operations, rebuild TensorFlow with the appropriate compiler flags.\n",
      "2023-07-24 09:52:45.910429: W tensorflow/compiler/tf2tensorrt/utils/py_utils.cc:38] TF-TRT Warning: Could not find TensorRT\n",
      ">>> There are atoms without bond: Fe_oct, [(4, 'Xx'), (5, 'Xx'), (6, 'Xx')].\n",
      ">>> There are atoms without bond: DHBQ, [(14, 'Xx'), (15, 'Xx')].\n",
      ">>> Console logs (under WARNING level) are disabled.\n",
      "WARNING:root:File logs (under WARNING level) are disabled.\n"
     ]
    }
   ],
   "source": [
    "import pormake as pm\n",
    "import numpy as np\n",
    "import csv\n",
    "from collections import defaultdict\n",
    "\n",
    "db = pm.Database()\n",
    "loc = pm.Locator()\n",
    "\n",
    "Fe_oct_a = pm.BuildingBlock(bb_file=\"pi-d_building_blocks/old_bb/Fe_oct.xyz\")\n",
    "Fe_oct_b = Fe_oct_a.make_chiral_building_block()\n",
    "Fe_oct = Fe_oct_a\n",
    "DHBQ = pm.BuildingBlock(bb_file=\"pi-d_building_blocks/old_bb/DHBQ.xyz\")\n",
    "\n",
    "pm.log.disable_print()\n",
    "pm.log.disable_file_print()\n"
   ]
  },
  {
   "cell_type": "code",
   "execution_count": 2,
   "id": "97beed93-7ed6-4e43-8d4a-f5a89c8edd05",
   "metadata": {},
   "outputs": [],
   "source": [
    "def expand_topo(topo):\n",
    "    x = 1\n",
    "    y = 1\n",
    "    z = 1\n",
    "    edges = topo.edge_indices\n",
    "    neigh = topo.neighbor_list\n",
    "    for i in edges:\n",
    "\n",
    "        ## below set lists unique neighbors for the edges. If 1, this means expansion is required.\n",
    "        if len(set([j.index for j in neigh[i]])) == 1:\n",
    "            dist = [abs(d) for d in neigh[i][0].distance_vector]\n",
    "\n",
    "            ## expand topology along the \"major\" edge direction to allow for alternating node sequence.\n",
    "            if x == 1 and dist.index(max(dist)) == 0:\n",
    "                x = 2\n",
    "            if y == 1 and dist.index(max(dist)) == 1:\n",
    "                y = 2\n",
    "            if z == 1 and dist.index(max(dist)) == 2:\n",
    "                z = 2\n",
    "\n",
    "    return topo * (x, y, z)"
   ]
  },
  {
   "cell_type": "code",
   "execution_count": 3,
   "id": "2ba0e911-b7b3-4f98-91f4-c5d912c27fc7",
   "metadata": {},
   "outputs": [],
   "source": [
    "## prep topologies for patterned node assignment\n",
    "\n",
    "topo_codes = []\n",
    "file = open('cn34_pid_topology_list.csv')\n",
    "csvreader = csv.reader(file)\n",
    "\n",
    "for row in csvreader:\n",
    "    for topo in row:\n",
    "        topo_codes.append(topo)\n",
    "\n",
    "topos = []\n",
    "\n",
    "for topo in topo_codes:\n",
    "    cur_topo = db.get_topo(topo)\n",
    "    cur_topo = expand_topo(cur_topo)\n",
    "\n",
    "    if cur_topo.n_nodes % 2 == 1:\n",
    "        ## expand in one of the directions to ensure even number of nodes\n",
    "        cur_topo = cur_topo * (1, 1, 2)\n",
    "        \n",
    "    topos.append(cur_topo)"
   ]
  },
  {
   "cell_type": "code",
   "execution_count": 6,
   "id": "942b7a77-9873-4ea0-9a96-55e54be1f3e0",
   "metadata": {},
   "outputs": [
    {
     "name": "stdout",
     "output_type": "stream",
     "text": [
      "63\n"
     ]
    }
   ],
   "source": [
    "## check rmsd and topology scale here (check # nodes again since expansion took place)\n",
    "\n",
    "node_limit = 80\n",
    "cn3_topos = []\n",
    "\n",
    "for topo in topos:\n",
    "    \n",
    "    if topo.n_nodes > node_limit:\n",
    "        continue\n",
    "    \n",
    "    if max(topo.unique_cn) == 3:\n",
    "        cn3_topos.append(topo)\n",
    "\n",
    "print(len(cn3_topos))"
   ]
  },
  {
   "cell_type": "code",
   "execution_count": 7,
   "id": "1bacc9db-4a2a-46de-b4de-af837affc4cc",
   "metadata": {
    "scrolled": true
   },
   "outputs": [
    {
     "name": "stdout",
     "output_type": "stream",
     "text": [
      "bcu-f\n",
      "bcu-h\n",
      "bpa\n",
      "bpb\n",
      "bpc\n",
      "bpe\n",
      "bpg\n",
      "bpi\n",
      "bpl\n",
      "bpm\n",
      "bpp\n",
      "bps\n",
      "bpt\n",
      "bpv\n",
      "bto\n",
      "clh\n",
      "ctn-d\n",
      "eta\n",
      "eta-c\n",
      "etb\n",
      "etc\n",
      "etd\n",
      "ete\n",
      "etf\n",
      "etg\n",
      "eth\n",
      "etj\n",
      "etn\n",
      "hha\n",
      "lig\n",
      "nnd\n",
      "nod\n",
      "noh\n",
      "noi\n",
      "noj\n",
      "nos\n",
      "nta\n",
      "ntb\n",
      "nva\n",
      "nvb\n",
      "ofo\n",
      "oft\n",
      "pbp\n",
      "pbz\n",
      "pcu-g\n",
      "pcu-h\n",
      "phl\n",
      "pyo\n"
     ]
    },
    {
     "name": "stderr",
     "output_type": "stream",
     "text": [
      "/home/chong/miniconda3/envs/pormake/lib/python3.8/site-packages/pormake-0.0.2-py3.8.egg/pormake/builder.py:667: RuntimeWarning: invalid value encountered in scalar divide\n",
      "  ratio = rmsd / slot_min_rmsd[key]\n",
      "/home/chong/miniconda3/envs/pormake/lib/python3.8/site-packages/pormake-0.0.2-py3.8.egg/pormake/builder.py:677: RuntimeWarning: invalid value encountered in scalar divide\n",
      "  ratio = rmsd / slot_min_rmsd[key]\n",
      "/home/chong/miniconda3/envs/pormake/lib/python3.8/site-packages/pormake-0.0.2-py3.8.egg/pormake/builder.py:667: RuntimeWarning: divide by zero encountered in scalar divide\n",
      "  ratio = rmsd / slot_min_rmsd[key]\n",
      "/home/chong/miniconda3/envs/pormake/lib/python3.8/site-packages/pormake-0.0.2-py3.8.egg/pormake/builder.py:677: RuntimeWarning: divide by zero encountered in scalar divide\n",
      "  ratio = rmsd / slot_min_rmsd[key]\n"
     ]
    },
    {
     "name": "stdout",
     "output_type": "stream",
     "text": [
      "srd-l\n",
      "srs\n",
      "sxc-d\n",
      "ths\n",
      "tta\n",
      "ttg\n",
      "twt\n",
      "uni-d\n",
      "utg\n",
      "utj\n",
      "utm\n",
      "utp\n",
      "wix\n",
      "wiz\n",
      "zme\n"
     ]
    }
   ],
   "source": [
    "\n",
    "## attempt generation!\n",
    "test_builder = pm.Builder(planarity_enforcement=True, angle_threshold=30, check_tetrahedral=False)\n",
    "successful_cases = []\n",
    "\n",
    "for topo in cn3_topos:\n",
    "    \n",
    "    print(topo.name)\n",
    "    \n",
    "    for chiral_grouping in [1, 2, 3, 4, 6, 8, 12, 16]:\n",
    "        for chiral_begin_flip in [True, False]:\n",
    "\n",
    "            current_node = {}\n",
    "            current_edge = {}    \n",
    "\n",
    "            ## initialize nodes with Fe_oct first (no chirality dependence... is this good?)\n",
    "            for i, node in enumerate(topo.unique_cn):\n",
    "                current_node[i] = Fe_oct\n",
    "\n",
    "            ## initialize edges\n",
    "            for i, edge in enumerate(topo.unique_edge_types):\n",
    "                current_edge[tuple(edge)] = DHBQ\n",
    "\n",
    "            bbs = test_builder.make_bbs_by_type(topo, current_node, current_edge)\n",
    "            calc_permutation = test_builder.extract_permutation(topo, current_node, current_edge)\n",
    "            calc_permutation = {i : perm for i, perm in enumerate(calc_permutation)}\n",
    "\n",
    "            ## consider chirality of Fe_oct nodes\n",
    "\n",
    "            chiral_counter = 0\n",
    "            chiral_check_count = chiral_grouping + 1\n",
    "            chiral_flip = chiral_begin_flip\n",
    "\n",
    "            for node in topo.node_indices:\n",
    "\n",
    "                if chiral_counter % chiral_check_count == 0:\n",
    "                    chiral_flip = not chiral_flip\n",
    "                    chiral_counter += 1\n",
    "\n",
    "                if chiral_flip:\n",
    "                    bbs[node] = Fe_oct_a\n",
    "                else:\n",
    "                    bbs[node] = Fe_oct_b\n",
    "\n",
    "                chiral_counter += 1\n",
    "\n",
    "\n",
    "            try:\n",
    "                mof = test_builder.build(topo, bbs, calc_permutation)\n",
    "                mof.view()\n",
    "                successful_cases.append(topo.name)\n",
    "\n",
    "            except:\n",
    "                continue\n",
    "\n"
   ]
  },
  {
   "cell_type": "code",
   "execution_count": 8,
   "id": "b1a10107-c249-4cc8-9fa9-a5d6c5d66e50",
   "metadata": {},
   "outputs": [
    {
     "data": {
      "text/plain": [
       "['bcu-h',\n",
       " 'bpc',\n",
       " 'bpc',\n",
       " 'etb',\n",
       " 'etc',\n",
       " 'etc',\n",
       " 'lig',\n",
       " 'pbz',\n",
       " 'pcu-h',\n",
       " 'pcu-h',\n",
       " 'srs',\n",
       " 'srs',\n",
       " 'srs',\n",
       " 'twt',\n",
       " 'twt',\n",
       " 'wiz']"
      ]
     },
     "execution_count": 8,
     "metadata": {},
     "output_type": "execute_result"
    }
   ],
   "source": [
    "successful_cases"
   ]
  },
  {
   "cell_type": "code",
   "execution_count": null,
   "id": "b04ba27c-2ef9-4919-8cd8-cb4e0a954ac7",
   "metadata": {},
   "outputs": [],
   "source": []
  }
 ],
 "metadata": {
  "kernelspec": {
   "display_name": "Python 3 (ipykernel)",
   "language": "python",
   "name": "python3"
  },
  "language_info": {
   "codemirror_mode": {
    "name": "ipython",
    "version": 3
   },
   "file_extension": ".py",
   "mimetype": "text/x-python",
   "name": "python",
   "nbconvert_exporter": "python",
   "pygments_lexer": "ipython3",
   "version": "3.8.0"
  }
 },
 "nbformat": 4,
 "nbformat_minor": 5
}
